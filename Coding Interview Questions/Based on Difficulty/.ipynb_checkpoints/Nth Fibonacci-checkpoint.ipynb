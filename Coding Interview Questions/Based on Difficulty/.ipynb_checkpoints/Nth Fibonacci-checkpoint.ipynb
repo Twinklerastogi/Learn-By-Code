{
 "cells": [
  {
   "cell_type": "markdown",
   "metadata": {},
   "source": [
    "# Nth Fibonacci"
   ]
  },
  {
   "cell_type": "markdown",
   "metadata": {},
   "source": [
    "__`Problem Statement`__"
   ]
  },
  {
   "cell_type": "markdown",
   "metadata": {},
   "source": [
    "`Find a nth term in the given series 0,1,1,2,3,5,8,13,21,34.....`"
   ]
  },
  {
   "cell_type": "markdown",
   "metadata": {},
   "source": [
    "__`Input`__"
   ]
  },
  {
   "cell_type": "markdown",
   "metadata": {},
   "source": [
    "`Given no. 10`\n"
   ]
  },
  {
   "cell_type": "markdown",
   "metadata": {},
   "source": [
    "__`Output`__"
   ]
  },
  {
   "cell_type": "markdown",
   "metadata": {},
   "source": [
    "`34`"
   ]
  },
  {
   "cell_type": "markdown",
   "metadata": {},
   "source": [
    "___`METHOD 1 (Recursive Approach)`___"
   ]
  },
  {
   "cell_type": "markdown",
   "metadata": {},
   "source": [
    "* `Define the base cases for n=1 and n=2` \n",
    "* `use the formula to call recursively fib(n) = fib(n-1) + fib(n-2)`\n"
   ]
  },
  {
   "cell_type": "code",
   "execution_count": 16,
   "metadata": {},
   "outputs": [
    {
     "data": {
      "text/plain": [
       "34"
      ]
     },
     "execution_count": 16,
     "metadata": {},
     "output_type": "execute_result"
    }
   ],
   "source": [
    "def get_nth_rec(n):\n",
    "    if n==1:\n",
    "        return 0\n",
    "    if n==2:\n",
    "        return 1\n",
    "    return get_nth_rec(n-1) + get_nth_rec(n-2)\n",
    "get_nth_rec(10)"
   ]
  },
  {
   "cell_type": "markdown",
   "metadata": {},
   "source": [
    "` Space - O(n)\n",
    " Time - O(2^n)`"
   ]
  },
  {
   "cell_type": "markdown",
   "metadata": {},
   "source": [
    "___`METHOD 2 (Memorization Approach)`___\n"
   ]
  },
  {
   "cell_type": "markdown",
   "metadata": {},
   "source": [
    "* `Make An Empty Hash Table`\n",
    "* `Calculate for every x in Hash check it if x not exist in Hash Table if yes return calculation formula fib and update in Hash Table`"
   ]
  },
  {
   "cell_type": "code",
   "execution_count": 22,
   "metadata": {},
   "outputs": [
    {
     "data": {
      "text/plain": [
       "34"
      ]
     },
     "execution_count": 22,
     "metadata": {},
     "output_type": "execute_result"
    }
   ],
   "source": [
    "def get_nth_mem_1(n,memory={1:0,2:1}):\n",
    "    if n in memory:\n",
    "        return memory[n]\n",
    "    else:\n",
    "        return get_nth_mem_1(n-1,memory) + get_nth_mem_1(n-2,memory)\n",
    "get_nth_mem_1(10)    "
   ]
  },
  {
   "cell_type": "code",
   "execution_count": 25,
   "metadata": {},
   "outputs": [
    {
     "data": {
      "text/plain": [
       "34"
      ]
     },
     "execution_count": 25,
     "metadata": {},
     "output_type": "execute_result"
    }
   ],
   "source": [
    "def get_nth_mem_2(n):\n",
    "    li=[0,1]\n",
    "    for i in range(2,n):\n",
    "        li.append(li[i-1]+li[i-2])\n",
    "    return li[n-1]\n",
    "get_nth_mem_2(10)"
   ]
  },
  {
   "cell_type": "markdown",
   "metadata": {},
   "source": [
    "` Space - O(n)\n",
    " Time - O(n)`"
   ]
  },
  {
   "cell_type": "markdown",
   "metadata": {},
   "source": [
    "___`METHOD 3 (Iterative Approach)`___"
   ]
  },
  {
   "cell_type": "markdown",
   "metadata": {},
   "source": [
    "* `Two variable Approach`\n",
    "* `Calculate nth term using loop`\n"
   ]
  },
  {
   "cell_type": "code",
   "execution_count": 13,
   "metadata": {},
   "outputs": [
    {
     "data": {
      "text/plain": [
       "34"
      ]
     },
     "execution_count": 13,
     "metadata": {},
     "output_type": "execute_result"
    }
   ],
   "source": [
    "def get_nth_itr(n):\n",
    "    L=[0,1]\n",
    "    count=2\n",
    "    while count<n:\n",
    "        next_term =L[0]+L[1]\n",
    "        L[0]=L[1]\n",
    "        L[1]=next_term\n",
    "        count+=1\n",
    "    return L[1] if n>1 else L[0]\n",
    "get_nth_itr(10)"
   ]
  },
  {
   "cell_type": "markdown",
   "metadata": {},
   "source": [
    "` Space - O(1)\n",
    " Time - O(n)`"
   ]
  }
 ],
 "metadata": {
  "kernelspec": {
   "display_name": "Python 3",
   "language": "python",
   "name": "python3"
  },
  "language_info": {
   "codemirror_mode": {
    "name": "ipython",
    "version": 3
   },
   "file_extension": ".py",
   "mimetype": "text/x-python",
   "name": "python",
   "nbconvert_exporter": "python",
   "pygments_lexer": "ipython3",
   "version": "3.7.6"
  }
 },
 "nbformat": 4,
 "nbformat_minor": 4
}
