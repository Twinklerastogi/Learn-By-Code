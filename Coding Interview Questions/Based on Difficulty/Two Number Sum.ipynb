{
 "cells": [
  {
   "cell_type": "markdown",
   "metadata": {},
   "source": [
    "## Two Number Sum"
   ]
  },
  {
   "cell_type": "markdown",
   "metadata": {},
   "source": [
    "__`Problem Statement`__"
   ]
  },
  {
   "cell_type": "markdown",
   "metadata": {},
   "source": [
    "`Find a Pair of elements from an array equal to given sum`"
   ]
  },
  {
   "cell_type": "markdown",
   "metadata": {},
   "source": [
    "__`Input`__"
   ]
  },
  {
   "cell_type": "markdown",
   "metadata": {},
   "source": [
    "`A Unique Array [3,4,2,-7,5,8,-1]`\n",
    "`Given Sum 6`\n"
   ]
  },
  {
   "cell_type": "markdown",
   "metadata": {},
   "source": [
    "__`Output`__"
   ]
  },
  {
   "cell_type": "markdown",
   "metadata": {},
   "source": [
    "`[4,2]`"
   ]
  },
  {
   "cell_type": "markdown",
   "metadata": {},
   "source": [
    "___`METHOD 1`___"
   ]
  },
  {
   "cell_type": "markdown",
   "metadata": {},
   "source": [
    "* `Make Every pair possible` \n",
    "* `Subtract it one by one with given Sum`\n",
    "* `Print the pair`"
   ]
  },
  {
   "cell_type": "code",
   "execution_count": 1,
   "metadata": {},
   "outputs": [
    {
     "data": {
      "text/plain": [
       "[4, 2]"
      ]
     },
     "execution_count": 1,
     "metadata": {},
     "output_type": "execute_result"
    }
   ],
   "source": [
    "def given_sum_1(array,givensum):\n",
    "    for i in range(len(array)):\n",
    "        #a[i] is First Element\n",
    "        for j in range(i+1,len(array)):\n",
    "            #a[j] is Second Element\n",
    "            if array[i] + array[j] == givensum:\n",
    "                return [array[i],array[j]]\n",
    "    return []\n",
    "given_sum_1([3,4,2,-7,5,8,-1],6)"
   ]
  },
  {
   "cell_type": "markdown",
   "metadata": {},
   "source": [
    "` Space - O(1)\n",
    " Time - O(n^2)`"
   ]
  },
  {
   "cell_type": "markdown",
   "metadata": {},
   "source": [
    "___`METHOD 2`___"
   ]
  },
  {
   "cell_type": "markdown",
   "metadata": {},
   "source": [
    "* `Make An Empty Hash Table`\n",
    "* `Calculate for every x in array check if 10-x exist in Hash Table if yes return x,10-x else update x:True in Hash Table`"
   ]
  },
  {
   "cell_type": "code",
   "execution_count": 2,
   "metadata": {},
   "outputs": [
    {
     "data": {
      "text/plain": [
       "[4, 2]"
      ]
     },
     "execution_count": 2,
     "metadata": {},
     "output_type": "execute_result"
    }
   ],
   "source": [
    "def given_sum_2(array,givensum):\n",
    "    hash_table={}\n",
    "    for x in array:\n",
    "        if givensum-x in hash_table.keys():\n",
    "            return [givensum-x,x]\n",
    "        else:\n",
    "            hash_table[x]=True\n",
    "    return []\n",
    "given_sum_2([3,4,2,-7,5,8,-1],6)"
   ]
  },
  {
   "cell_type": "markdown",
   "metadata": {},
   "source": [
    "` Space - O(n)\n",
    " Time - O(n)`"
   ]
  },
  {
   "cell_type": "markdown",
   "metadata": {},
   "source": [
    "___`METHOD 3`___"
   ]
  },
  {
   "cell_type": "markdown",
   "metadata": {},
   "source": [
    "* `Sort the array`\n",
    "* `Use Two Markers L at Asc End and R at Desc End`\n",
    "* `Calculate C=V[L]+V[R]`\n",
    "* `if C<Sum then L++ elif C>Sum then R-- else print (V[L],V[R])`"
   ]
  },
  {
   "cell_type": "code",
   "execution_count": 3,
   "metadata": {},
   "outputs": [
    {
     "data": {
      "text/plain": [
       "[2, 4]"
      ]
     },
     "execution_count": 3,
     "metadata": {},
     "output_type": "execute_result"
    }
   ],
   "source": [
    "def given_sum_3(array,GivenSum):\n",
    "    array.sort()\n",
    "    L=0\n",
    "    R=len(array)-1\n",
    "    while(L<R):\n",
    "        current_sum=array[L]+array[R]\n",
    "        if (GivenSum>current_sum):\n",
    "            L+=1\n",
    "        elif (GivenSum<current_sum):\n",
    "            R-=1\n",
    "        else:\n",
    "            return [array[L],array[R]]\n",
    "    return []\n",
    "given_sum_3([3,4,2,-7,5,8,-1],6)   "
   ]
  },
  {
   "cell_type": "markdown",
   "metadata": {},
   "source": [
    "` Space - O(1)\n",
    " Time - O(n`log`n)`"
   ]
  },
  {
   "cell_type": "code",
   "execution_count": null,
   "metadata": {},
   "outputs": [],
   "source": []
  }
 ],
 "metadata": {
  "kernelspec": {
   "display_name": "Python 3",
   "language": "python",
   "name": "python3"
  },
  "language_info": {
   "codemirror_mode": {
    "name": "ipython",
    "version": 3
   },
   "file_extension": ".py",
   "mimetype": "text/x-python",
   "name": "python",
   "nbconvert_exporter": "python",
   "pygments_lexer": "ipython3",
   "version": "3.7.6"
  }
 },
 "nbformat": 4,
 "nbformat_minor": 4
}
