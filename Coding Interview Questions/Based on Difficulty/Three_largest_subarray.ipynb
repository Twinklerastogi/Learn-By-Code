{
 "cells": [
  {
   "cell_type": "markdown",
   "metadata": {},
   "source": [
    "## Three largest no.s"
   ]
  },
  {
   "cell_type": "markdown",
   "metadata": {},
   "source": [
    "__`Problem Statement`__"
   ]
  },
  {
   "cell_type": "markdown",
   "metadata": {},
   "source": [
    "`Given an array then find an array that consist of three largest array`"
   ]
  },
  {
   "cell_type": "markdown",
   "metadata": {},
   "source": [
    "__`Input`__"
   ]
  },
  {
   "cell_type": "markdown",
   "metadata": {},
   "source": [
    "`[56,76,98,23,7,67,95,-5,84]`"
   ]
  },
  {
   "cell_type": "markdown",
   "metadata": {},
   "source": [
    "__`Output`__"
   ]
  },
  {
   "cell_type": "markdown",
   "metadata": {},
   "source": [
    "`[84,95,98]`"
   ]
  },
  {
   "cell_type": "markdown",
   "metadata": {},
   "source": [
    "___`METHOD 1`___"
   ]
  },
  {
   "cell_type": "markdown",
   "metadata": {},
   "source": [
    "* `Make an sub-array initialize it as [-inf,-inf,-inf] ` \n",
    "* `Traverse the whole array and put the value in the subarray according to largest no. condition`\n",
    "* `Output the Sub-array`"
   ]
  },
  {
   "cell_type": "code",
   "execution_count": 4,
   "metadata": {},
   "outputs": [
    {
     "data": {
      "text/plain": [
       "[84, 95, 98]"
      ]
     },
     "execution_count": 4,
     "metadata": {},
     "output_type": "execute_result"
    }
   ],
   "source": [
    "def three_largest_nos(array):\n",
    "    subarray=[None,None,None]\n",
    "    for num in array:\n",
    "        updateLargest(subarray,num)\n",
    "    return subarray\n",
    "\n",
    "def updateLargest(subarray,num):\n",
    "    if subarray[2] is None or num > subarray[2]:\n",
    "        shiftandupdate(subarray,num,2)\n",
    "    elif subarray[1] is None or num > subarray[1]:\n",
    "        shiftandupdate(subarray,num,1)\n",
    "    elif subarray[1] is None or num > subarray[0]:\n",
    "        shiftandupdate(subarray,num,0)\n",
    "        \n",
    "def shiftandupdate(array,num,idx):\n",
    "    for i in range(idx+1):\n",
    "        if i==idx:\n",
    "            array[i]=num\n",
    "        else:\n",
    "            array[i]=array[i+1]\n",
    "three_largest_nos([56,76,98,23,7,67,95,-5,84])            \n",
    "    \n",
    "        \n"
   ]
  },
  {
   "cell_type": "markdown",
   "metadata": {},
   "source": [
    "` Space - O(1)\n",
    " Time - O(n)`"
   ]
  }
 ],
 "metadata": {
  "kernelspec": {
   "display_name": "Python 3",
   "language": "python",
   "name": "python3"
  },
  "language_info": {
   "codemirror_mode": {
    "name": "ipython",
    "version": 3
   },
   "file_extension": ".py",
   "mimetype": "text/x-python",
   "name": "python",
   "nbconvert_exporter": "python",
   "pygments_lexer": "ipython3",
   "version": "3.7.6"
  }
 },
 "nbformat": 4,
 "nbformat_minor": 4
}
