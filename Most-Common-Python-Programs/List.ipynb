{
 "cells": [
  {
   "cell_type": "markdown",
   "metadata": {},
   "source": [
    "# List"
   ]
  },
  {
   "cell_type": "markdown",
   "metadata": {},
   "source": [
    "__Python Program to Find the Largest Number in a List__"
   ]
  },
  {
   "cell_type": "code",
   "execution_count": 2,
   "metadata": {},
   "outputs": [
    {
     "name": "stdout",
     "output_type": "stream",
     "text": [
      "99\n",
      "9\n"
     ]
    }
   ],
   "source": [
    "def largest(L):\n",
    "    return max(L)\n",
    "def largest_1(L):\n",
    "    L.sort()\n",
    "    return L[-1]\n",
    "print(largest(list(range(100))))\n",
    "print(largest([9,5,3,2]))"
   ]
  },
  {
   "cell_type": "code",
   "execution_count": 6,
   "metadata": {},
   "outputs": [
    {
     "name": "stdout",
     "output_type": "stream",
     "text": [
      "6 7\n"
     ]
    }
   ],
   "source": [
    "# Kth largest\n",
    "def k_largest(L,k):\n",
    "    L.sort()\n",
    "    return L[-k]\n",
    "def k_largest_2(L,k):\n",
    "    for i in range(1,k):\n",
    "        lar=max(L)\n",
    "        L.remove(lar)\n",
    "    return max(L)  \n",
    "print(k_largest([9,8,7,6,5,4,3],4),k_largest_2([9,8,7,6,5,4,3],3) )  "
   ]
  },
  {
   "cell_type": "markdown",
   "metadata": {},
   "source": [
    "__Python Program to Merge sorted Two Lists into one list__"
   ]
  },
  {
   "cell_type": "code",
   "execution_count": 7,
   "metadata": {},
   "outputs": [
    {
     "data": {
      "text/plain": [
       "[1, 2, 3, 4, 5, 6, 7, 8]"
      ]
     },
     "execution_count": 7,
     "metadata": {},
     "output_type": "execute_result"
    }
   ],
   "source": [
    "def merge(A,B):\n",
    "    a=len(A)\n",
    "    b=len(B)\n",
    "    AB=[]\n",
    "    n=0\n",
    "    i=0\n",
    "    j=0\n",
    "    while(i<a and j<b):\n",
    "        if(A[i]<=B[j]):\n",
    "            AB.append(A[i])\n",
    "            i+=1\n",
    "        else:\n",
    "            AB.append(B[j])\n",
    "            j+=1\n",
    "    while(i==a and j<b):\n",
    "        AB.append(B[j])\n",
    "        j+=1\n",
    "    while(i<a and j==b):\n",
    "        AB.append(A[i])\n",
    "        i+=1\n",
    "    return AB\n",
    "merge([1,3,5,7],[2,4,6,8])"
   ]
  },
  {
   "cell_type": "markdown",
   "metadata": {},
   "source": [
    "__Python Program to Sort the List According to the Second Element in Sublist__"
   ]
  },
  {
   "cell_type": "code",
   "execution_count": 9,
   "metadata": {},
   "outputs": [
    {
     "name": "stdout",
     "output_type": "stream",
     "text": [
      "[['B', 21], ['C', 26], ['A', 34]]\n"
     ]
    }
   ],
   "source": [
    "a=[['A',34],['B',21],['C',26]]\n",
    "for i in range(0,len(a)):\n",
    "    for j in range(0,len(a)-i-1):\n",
    "        if(a[j][1]>a[j+1][1]):\n",
    "            temp=a[j]\n",
    "            a[j]=a[j+1]\n",
    "            a[j+1]=temp\n",
    "print(a)"
   ]
  },
  {
   "cell_type": "markdown",
   "metadata": {},
   "source": [
    "__Python Program to Sort a List According to the Length of the Elements__"
   ]
  },
  {
   "cell_type": "code",
   "execution_count": 12,
   "metadata": {},
   "outputs": [
    {
     "name": "stdout",
     "output_type": "stream",
     "text": [
      "Enter number of elements:4\n",
      "Enter element:apple\n",
      "Enter element:mango\n",
      "Enter element:pear\n",
      "Enter element:grapes\n",
      "['pear', 'apple', 'mango', 'grapes']\n"
     ]
    }
   ],
   "source": [
    "a=[]\n",
    "n=int(input(\"Enter number of elements:\"))\n",
    "for i in range(1,n+1):\n",
    "    b=input(\"Enter element:\")\n",
    "    a.append(b)\n",
    "a.sort(key=len)\n",
    "print(a)"
   ]
  },
  {
   "cell_type": "code",
   "execution_count": null,
   "metadata": {},
   "outputs": [],
   "source": []
  }
 ],
 "metadata": {
  "kernelspec": {
   "display_name": "Python 3",
   "language": "python",
   "name": "python3"
  },
  "language_info": {
   "codemirror_mode": {
    "name": "ipython",
    "version": 3
   },
   "file_extension": ".py",
   "mimetype": "text/x-python",
   "name": "python",
   "nbconvert_exporter": "python",
   "pygments_lexer": "ipython3",
   "version": "3.7.6"
  }
 },
 "nbformat": 4,
 "nbformat_minor": 4
}
