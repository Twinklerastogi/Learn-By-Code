{
 "cells": [
  {
   "cell_type": "markdown",
   "metadata": {},
   "source": [
    "# List"
   ]
  },
  {
   "cell_type": "markdown",
   "metadata": {},
   "source": [
    "__Python Program to Find the Largest Number in a List__"
   ]
  },
  {
   "cell_type": "code",
   "execution_count": 2,
   "metadata": {},
   "outputs": [
    {
     "name": "stdout",
     "output_type": "stream",
     "text": [
      "99\n",
      "9\n"
     ]
    }
   ],
   "source": [
    "def largest(L):\n",
    "    return max(L)\n",
    "def largest_1(L):\n",
    "    L.sort()\n",
    "    return L[-1]\n",
    "print(largest(list(range(100))))\n",
    "print(largest([9,5,3,2]))"
   ]
  },
  {
   "cell_type": "code",
   "execution_count": 6,
   "metadata": {},
   "outputs": [
    {
     "name": "stdout",
     "output_type": "stream",
     "text": [
      "6 7\n"
     ]
    }
   ],
   "source": [
    "# Kth largest\n",
    "def k_largest(L,k):\n",
    "    L.sort()\n",
    "    return L[-k]\n",
    "def k_largest_2(L,k):\n",
    "    for i in range(1,k):\n",
    "        lar=max(L)\n",
    "        L.remove(lar)\n",
    "    return max(L)  \n",
    "print(k_largest([9,8,7,6,5,4,3],4),k_largest_2([9,8,7,6,5,4,3],3) )  "
   ]
  },
  {
   "cell_type": "markdown",
   "metadata": {},
   "source": [
    "__Python Program to Merge sorted Two Lists into one list__"
   ]
  },
  {
   "cell_type": "code",
   "execution_count": 7,
   "metadata": {},
   "outputs": [
    {
     "data": {
      "text/plain": [
       "[1, 2, 3, 4, 5, 6, 7, 8]"
      ]
     },
     "execution_count": 7,
     "metadata": {},
     "output_type": "execute_result"
    }
   ],
   "source": [
    "def merge(A,B):\n",
    "    a=len(A)\n",
    "    b=len(B)\n",
    "    AB=[]\n",
    "    n=0\n",
    "    i=0\n",
    "    j=0\n",
    "    while(i<a and j<b):\n",
    "        if(A[i]<=B[j]):\n",
    "            AB.append(A[i])\n",
    "            i+=1\n",
    "        else:\n",
    "            AB.append(B[j])\n",
    "            j+=1\n",
    "    while(i==a and j<b):\n",
    "        AB.append(B[j])\n",
    "        j+=1\n",
    "    while(i<a and j==b):\n",
    "        AB.append(A[i])\n",
    "        i+=1\n",
    "    return AB\n",
    "merge([1,3,5,7],[2,4,6,8])"
   ]
  },
  {
   "cell_type": "markdown",
   "metadata": {},
   "source": [
    "__Python Program to Sort the List According to the Second Element in Sublist__"
   ]
  },
  {
   "cell_type": "code",
   "execution_count": 9,
   "metadata": {},
   "outputs": [
    {
     "name": "stdout",
     "output_type": "stream",
     "text": [
      "[['B', 21], ['C', 26], ['A', 34]]\n"
     ]
    }
   ],
   "source": [
    "a=[['A',34],['B',21],['C',26]]\n",
    "for i in range(0,len(a)):\n",
    "    for j in range(0,len(a)-i-1):\n",
    "        if(a[j][1]>a[j+1][1]):\n",
    "            temp=a[j]\n",
    "            a[j]=a[j+1]\n",
    "            a[j+1]=temp\n",
    "print(a)"
   ]
  },
  {
   "cell_type": "markdown",
   "metadata": {},
   "source": [
    "__Python Program to Sort a List According to the Length of the Elements__"
   ]
  },
  {
   "cell_type": "code",
   "execution_count": 12,
   "metadata": {},
   "outputs": [
    {
     "name": "stdout",
     "output_type": "stream",
     "text": [
      "Enter number of elements:4\n",
      "Enter element:apple\n",
      "Enter element:mango\n",
      "Enter element:pear\n",
      "Enter element:grapes\n",
      "['pear', 'apple', 'mango', 'grapes']\n"
     ]
    }
   ],
   "source": [
    "a=[]\n",
    "n=int(input(\"Enter number of elements:\"))\n",
    "for i in range(1,n+1):\n",
    "    b=input(\"Enter element:\")\n",
    "    a.append(b)\n",
    "a.sort(key=len)\n",
    "print(a)"
   ]
  },
  {
   "cell_type": "markdown",
   "metadata": {},
   "source": [
    "__Python Program to Find the Union of two Lists__"
   ]
  },
  {
   "cell_type": "code",
   "execution_count": 4,
   "metadata": {},
   "outputs": [
    {
     "name": "stdout",
     "output_type": "stream",
     "text": [
      "{1: 5, 2: 3, 3: 5}\n",
      "[1, 2, 3, 4, 6, 7]\n"
     ]
    }
   ],
   "source": [
    "from collections import Counter\n",
    "def union_set(l1,l2):\n",
    "    return list(set().union(l1,l2))\n",
    "def union_multiset(l1,l2):\n",
    "    d1=dict(Counter(l1))\n",
    "    d2=dict(Counter(l2))\n",
    "    d3={}\n",
    "    for x in d1:\n",
    "        if x in d2:\n",
    "            if d1[x]>=d2[x]:\n",
    "                d3[x]=d1[x]\n",
    "            else:\n",
    "                d3[x]=d2[x]\n",
    "        else:\n",
    "            d3[x]=d1[x]\n",
    "    for x in d2:\n",
    "        if x in d1:\n",
    "            if d1[x]>=d2[x]:\n",
    "                d3[x]=d1[x]\n",
    "            else:\n",
    "                d3[x]=d2[x]\n",
    "        else:\n",
    "            d3[x]=d2[x]\n",
    "    return d3\n",
    "print(union_multiset([1,1,1,1,1,2,2,3,3,3,3,3],[1,1,1,1,2,2,2,3,3]))\n",
    "print(union_set([1,2,4,6],[2,4,3,7]))\n",
    "    \n",
    "            \n",
    "    "
   ]
  },
  {
   "cell_type": "markdown",
   "metadata": {},
   "source": [
    "__Python Program to Find the Intersection of Two Lists__"
   ]
  },
  {
   "cell_type": "code",
   "execution_count": 10,
   "metadata": {},
   "outputs": [
    {
     "name": "stdout",
     "output_type": "stream",
     "text": [
      "{1: 4, 2: 2, 3: 2}\n",
      "[2, 4, 7]\n"
     ]
    }
   ],
   "source": [
    "from collections import Counter\n",
    "def intersection_set(l1,l2):\n",
    "    return list(set(l1).intersection(set(l2)))\n",
    "def intersection_multiset(l1,l2):\n",
    "    d1=dict(Counter(l1))\n",
    "    d2=dict(Counter(l2))\n",
    "    d3={}\n",
    "    for x in d1:\n",
    "        if x in d2:\n",
    "            if d1[x]<=d2[x]:\n",
    "                d3[x]=d1[x]\n",
    "            else:\n",
    "                d3[x]=d2[x]\n",
    "    return d3\n",
    "print(intersection_multiset([1,1,1,1,1,2,2,3,3,3,3,3],[1,1,1,1,2,2,2,3,3]))\n",
    "print(intersection_set([1,2,4,6,7],[2,4,3,7]))\n"
   ]
  },
  {
   "cell_type": "markdown",
   "metadata": {},
   "source": [
    "__Python Program to Create a List of Tuples with the First Element as the Number and Second Element as the Square of the Number__"
   ]
  },
  {
   "cell_type": "code",
   "execution_count": 11,
   "metadata": {},
   "outputs": [
    {
     "name": "stdout",
     "output_type": "stream",
     "text": [
      "[(1, 1), (2, 4), (3, 9), (4, 16), (5, 25), (6, 36), (7, 49), (8, 64), (9, 81), (10, 100)]\n"
     ]
    }
   ],
   "source": [
    "li=list(range(1,11))\n",
    "li_tup=[(i,i**2) for i in li]\n",
    "print(li_tup)"
   ]
  },
  {
   "cell_type": "markdown",
   "metadata": {},
   "source": [
    "__Python Program to Find all Numbers in a Range which are Perfect Squares and Sum of all Digits in the Number is Less than 10__"
   ]
  },
  {
   "cell_type": "code",
   "execution_count": 13,
   "metadata": {},
   "outputs": [
    {
     "data": {
      "text/plain": [
       "[100, 121, 144]"
      ]
     },
     "execution_count": 13,
     "metadata": {},
     "output_type": "execute_result"
    }
   ],
   "source": [
    "def sum_of_digit(n):\n",
    "    sum1=0\n",
    "    while(n!=0):\n",
    "        d=n%10\n",
    "        sum1+=d\n",
    "        n=n//10\n",
    "    return sum1\n",
    "def perfect_square(x):\n",
    "    a=int(x**0.5)\n",
    "    return True if a**2==x else False\n",
    "def main(L,H):\n",
    "    l=[]\n",
    "    for i in range(L,H+1):\n",
    "        if sum_of_digit(i)<10 and perfect_square(i):\n",
    "            l.append(i)\n",
    "    return l\n",
    "main(100,200)\n",
    "        "
   ]
  },
  {
   "cell_type": "markdown",
   "metadata": {},
   "source": [
    "__Python Program to Find the Cumulative Sum of a List where the ith Element is the Sum of the First i+1 Elements From The Original List__"
   ]
  },
  {
   "cell_type": "code",
   "execution_count": 67,
   "metadata": {},
   "outputs": [
    {
     "data": {
      "text/plain": [
       "[1, 3, 6, 10, 15]"
      ]
     },
     "execution_count": 67,
     "metadata": {},
     "output_type": "execute_result"
    }
   ],
   "source": [
    "a=[1, 2, 3, 4, 5]\n",
    "b=[sum(a[0:x+1]) for x in range(0,len(a))]\n",
    "b"
   ]
  },
  {
   "cell_type": "markdown",
   "metadata": {},
   "source": [
    "__Python program to Sort a List of Tuples in Increasing Order by the Last Element in Each Tuple__"
   ]
  },
  {
   "cell_type": "code",
   "execution_count": 15,
   "metadata": {},
   "outputs": [
    {
     "name": "stdout",
     "output_type": "stream",
     "text": [
      "Sorted:\n",
      "[(1, 2), (4, 4), (2, 5), (2, 6)]\n"
     ]
    }
   ],
   "source": [
    "def last(n):\n",
    "    return n[-1]  \n",
    " \n",
    "def sort(tuples):\n",
    "    return sorted(tuples, key=last)\n",
    " \n",
    "a=[(1, 2), (2, 6), (4, 4), (2, 5)]\n",
    "print(\"Sorted:\")\n",
    "print(sort(a))"
   ]
  },
  {
   "cell_type": "markdown",
   "metadata": {},
   "source": [
    "__Python Program to Remove the Duplicate Items from a List__"
   ]
  },
  {
   "cell_type": "code",
   "execution_count": 34,
   "metadata": {},
   "outputs": [
    {
     "name": "stdout",
     "output_type": "stream",
     "text": [
      "[1, 4, 2, 5, 3]\n",
      "[1, 2, 3, 4, 5]\n"
     ]
    }
   ],
   "source": [
    "def remove_duplicates(l):\n",
    "    return list(set(l))\n",
    "def remove_duplicates_O(l):\n",
    "    i=0\n",
    "    while(i<len(l)):        \n",
    "        if l[i] in l[i+1:]:\n",
    "            l.remove(l[i])\n",
    "        else:\n",
    "            i+=1\n",
    "    return l\n",
    "print(remove_duplicates_O([1,1,1,2,2,4,2,2,5,3]))\n",
    "print(remove_duplicates([1,1,1,2,2,4,2,2,5,3]))"
   ]
  },
  {
   "cell_type": "markdown",
   "metadata": {},
   "source": [
    "__Python Program to Read a List of Words and Return the Length of the Longest One__"
   ]
  },
  {
   "cell_type": "code",
   "execution_count": 38,
   "metadata": {},
   "outputs": [
    {
     "name": "stdout",
     "output_type": "stream",
     "text": [
      "7\n"
     ]
    }
   ],
   "source": [
    "l=[\"sg\",\"shg\",\"sg9\",\"sg@s3tv\"]\n",
    "print(len(sorted(l,key=len)[-1]))"
   ]
  },
  {
   "cell_type": "code",
   "execution_count": 40,
   "metadata": {},
   "outputs": [
    {
     "data": {
      "text/plain": [
       "7"
      ]
     },
     "execution_count": 40,
     "metadata": {},
     "output_type": "execute_result"
    }
   ],
   "source": [
    "max(map(len,[\"sg\",\"shg\",\"sg9\",\"sg@s3tv\"]))"
   ]
  },
  {
   "cell_type": "markdown",
   "metadata": {},
   "source": [
    "__Python Program to Remove the ith Occurrence of the Given Word in a List where Words can Repeat__"
   ]
  },
  {
   "cell_type": "code",
   "execution_count": 65,
   "metadata": {},
   "outputs": [
    {
     "data": {
      "text/plain": [
       "['A', 'B', 'A', 'C', 'A']"
      ]
     },
     "execution_count": 65,
     "metadata": {},
     "output_type": "execute_result"
    }
   ],
   "source": [
    "def delete_occurence(l,word,n):\n",
    "    count=n\n",
    "    i=0\n",
    "    while(i<len(l)):\n",
    "\n",
    "        if l[i]==word:\n",
    "            count-=1\n",
    "            if count==0:\n",
    "                l[i]=\"\"    \n",
    "        i+=1\n",
    "    return \" \".join(l).split()\n",
    "delete_occurence(['A', 'B', 'A', 'A', 'C', 'A'],\"A\",3)"
   ]
  }
 ],
 "metadata": {
  "kernelspec": {
   "display_name": "Python 3",
   "language": "python",
   "name": "python3"
  },
  "language_info": {
   "codemirror_mode": {
    "name": "ipython",
    "version": 3
   },
   "file_extension": ".py",
   "mimetype": "text/x-python",
   "name": "python",
   "nbconvert_exporter": "python",
   "pygments_lexer": "ipython3",
   "version": "3.7.6"
  }
 },
 "nbformat": 4,
 "nbformat_minor": 4
}
