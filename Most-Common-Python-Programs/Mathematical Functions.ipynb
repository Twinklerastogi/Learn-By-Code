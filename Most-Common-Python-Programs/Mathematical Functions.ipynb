{
 "cells": [
  {
   "cell_type": "markdown",
   "metadata": {},
   "source": [
    "__Python Program to Check if a Date is Valid and Print the Incremented Date if it is__"
   ]
  },
  {
   "cell_type": "code",
   "execution_count": 14,
   "metadata": {},
   "outputs": [
    {
     "name": "stdout",
     "output_type": "stream",
     "text": [
      "29-feb-2020\n",
      "Valid Date\n",
      "Incremented Date 1-mar-2020\n"
     ]
    }
   ],
   "source": [
    "#For Format 12-jan-2010\n",
    "def get_next_month(cm):\n",
    "    li=[\"jan\",\"feb\",\"mar\",\"apr\",\"may\",\"jun\",\"jul\",\"aug\",\"sep\",\"oct\",\"nov\",\"dec\"]\n",
    "    i=li.index(cm)\n",
    "    return li[i+1]\n",
    "    \n",
    "def check_leap(x):\n",
    "    if(x%4==0 and x%100!=0 or x%400==0):\n",
    "        return True\n",
    "    else:\n",
    "        return False\n",
    "        \n",
    "def check_validity(d,m,c):\n",
    "    if m not in c:\n",
    "        return False    \n",
    "    max_days=c[m]\n",
    "    if d<0 or d>max_days:\n",
    "        return False\n",
    "    return True\n",
    "            \n",
    "def increment_date(d,m,y,c):\n",
    "    if m==\"dec\":\n",
    "        if d==c[m]:\n",
    "            y+=1\n",
    "            m=\"jan\"\n",
    "            d=1\n",
    "        else:\n",
    "            d+=1\n",
    "    else:\n",
    "        if d==c[m]:\n",
    "            m=get_next_month(m)\n",
    "            d=1\n",
    "        else:\n",
    "            d+=1\n",
    "    return(\"-\".join([str(d),m,str(y)]))        \n",
    "    \n",
    "date=input().lower().split(\"-\")\n",
    "day=int(date[0])\n",
    "month=date[1]\n",
    "year=int(date[2])\n",
    "normal_year={\"jan\":31,\"feb\":28,\"mar\":31,\"apr\":30,\"may\":31,\"jun\":30,\"jul\":31,\"aug\":31,\"sep\":30,\"oct\":31,\"nov\":30,\"dec\":31}\n",
    "leap_year={\"jan\":31,\"feb\":29,\"mar\":31,\"apr\":30,\"may\":31,\"jun\":30,\"jul\":31,\"aug\":31,\"sep\":30,\"oct\":31,\"nov\":30,\"dec\":31}\n",
    "if check_leap(year):\n",
    "    current_year=leap_year.copy()\n",
    "else:\n",
    "    current_year=normal_year.copy()\n",
    "if check_validity(day,month,current_year):\n",
    "    print(\"Valid Date\")\n",
    "    next_date=increment_date(day,month,year,current_year)\n",
    "    print(\"Incremented Date\",next_date)\n",
    "else:\n",
    "    print(\"Invalid Date\")\n"
   ]
  },
  {
   "cell_type": "code",
   "execution_count": 17,
   "metadata": {},
   "outputs": [
    {
     "name": "stdout",
     "output_type": "stream",
     "text": [
      "Enter the date: 29/2/2020\n",
      "The incremented date is:  1/3/2020\n"
     ]
    }
   ],
   "source": [
    "# For format dd/mm/yyyy\n",
    "date=input(\"Enter the date: \")\n",
    "dd,mm,yy=date.split('/')\n",
    "dd=int(dd)\n",
    "mm=int(mm)\n",
    "yy=int(yy)\n",
    "if(mm==1 or mm==3 or mm==5 or mm==7 or mm==8 or mm==10 or mm==12):\n",
    "    max1=31\n",
    "elif(mm==4 or mm==6 or mm==9 or mm==11):\n",
    "    max1=30\n",
    "elif(yy%4==0 and yy%100!=0 or yy%400==0):\n",
    "    max1=29\n",
    "else:\n",
    "    max1=28\n",
    "if(mm<1 or mm>12):\n",
    "    print(\"Date is invalid.\")\n",
    "elif(dd<1 or dd>max1):\n",
    "    print(\"Date is invalid.\")\n",
    "elif(dd==max1 and mm!=12):\n",
    "    dd=1\n",
    "    mm=mm+1\n",
    "    print(\"The incremented date is: \",\"/\".join([str(dd),str(mm),str(yy)]))\n",
    "elif(dd==31 and mm==12):\n",
    "    dd=1\n",
    "    mm=1\n",
    "    yy=yy+1\n",
    "    print(\"The incremented date is: \",\"/\".join([str(dd),str(mm),str(yy)]))\n",
    "else:\n",
    "    dd=dd+1\n",
    "    print(\"The incremented date is: \" , \"/\".join([str(dd),str(mm),str(yy)]))"
   ]
  },
  {
   "cell_type": "markdown",
   "metadata": {},
   "source": [
    "__Python Program to Compute Simple Interest Given all the Required Values__"
   ]
  },
  {
   "cell_type": "code",
   "execution_count": 22,
   "metadata": {},
   "outputs": [
    {
     "name": "stdout",
     "output_type": "stream",
     "text": [
      "20.00\n",
      "21.00\n"
     ]
    }
   ],
   "source": [
    "def simple_interest(p,r,t):\n",
    "    return p*r*t/100\n",
    "def compound_interest(p,r,t):\n",
    "    return (p*((1+r/100)**t))-p\n",
    "print(\"{:.2f}\".format(simple_interest(100,10,2)))\n",
    "print(\"{:.2f}\".format(compound_interest(100,10,2)))"
   ]
  },
  {
   "cell_type": "markdown",
   "metadata": {},
   "source": [
    "__Python Program to Check Whether a Given Year is a Leap Year__"
   ]
  },
  {
   "cell_type": "code",
   "execution_count": 24,
   "metadata": {},
   "outputs": [
    {
     "name": "stdout",
     "output_type": "stream",
     "text": [
      "Enter year to be checked:2016\n",
      "The year is a leap year!\n"
     ]
    }
   ],
   "source": [
    "year=int(input(\"Enter year to be checked:\"))\n",
    "if(year%4==0 and year%100!=0 or year%400==0):\n",
    "    print(\"The year is a leap year!\")\n",
    "else:\n",
    "    print(\"The year isn't a leap year!\")"
   ]
  },
  {
   "cell_type": "markdown",
   "metadata": {},
   "source": [
    "__Python Program to Read Height in Centimeters and then Convert the Height to Feet and Inches__"
   ]
  },
  {
   "cell_type": "code",
   "execution_count": 25,
   "metadata": {},
   "outputs": [
    {
     "name": "stdout",
     "output_type": "stream",
     "text": [
      "180\n",
      "5 feet 11 inch\n"
     ]
    }
   ],
   "source": [
    "height=float(input())\n",
    "inches=round(height/2.54)\n",
    "feet=inches//12\n",
    "inch=inches%12\n",
    "print(feet,\"feet\",inch,\"inch\")"
   ]
  },
  {
   "cell_type": "markdown",
   "metadata": {},
   "source": [
    "__Python Program to Take the Temperature in Celcius and Covert it to Farenheit__"
   ]
  },
  {
   "cell_type": "code",
   "execution_count": 2,
   "metadata": {},
   "outputs": [
    {
     "name": "stdout",
     "output_type": "stream",
     "text": [
      "34\n",
      "93.20\n"
     ]
    }
   ],
   "source": [
    "temp=float(input())\n",
    "fahr=1.8*temp+32\n",
    "print(\"{:.2f}\".format(fahr))"
   ]
  },
  {
   "cell_type": "markdown",
   "metadata": {},
   "source": [
    "__Python Program to Compute Prime Factors of an Integer__"
   ]
  },
  {
   "cell_type": "code",
   "execution_count": 11,
   "metadata": {},
   "outputs": [
    {
     "name": "stdout",
     "output_type": "stream",
     "text": [
      "[2, 3, 5]\n",
      "[2, 5]\n",
      "[7]\n"
     ]
    }
   ],
   "source": [
    "def check_prime(n):\n",
    "    if n==2 or n==3:\n",
    "        return True\n",
    "    if n%2==0 or n%3==0:\n",
    "        return False\n",
    "    for i in range(5,int(n**0.5+1)+1,2):\n",
    "        if n%i==0:\n",
    "            return False\n",
    "    return True\n",
    "def compute_prime_factors(n):\n",
    "    l=[]\n",
    "    for i in range(2,int(n**0.5+1)+1):\n",
    "        if n%i==0:\n",
    "            if check_prime(i):\n",
    "                l.append(i)            \n",
    "    return l\n",
    "print(compute_prime_factors(30))\n",
    "print(compute_prime_factors(200))\n",
    "print(compute_prime_factors(49))\n",
    "\n",
    "                "
   ]
  },
  {
   "cell_type": "markdown",
   "metadata": {},
   "source": [
    "__Python Program to Generate all the Divisors of an Integer__"
   ]
  },
  {
   "cell_type": "code",
   "execution_count": 10,
   "metadata": {},
   "outputs": [
    {
     "name": "stdout",
     "output_type": "stream",
     "text": [
      "[2, 4, 5, 8, 10]\n",
      "[2, 3, 5, 6]\n"
     ]
    }
   ],
   "source": [
    "def gen_divisors(n):\n",
    "    l=[]\n",
    "    for i in range(2,int(n**0.5+1)+1):\n",
    "        if n%i==0:\n",
    "            l.append(i)\n",
    "    return l\n",
    "print(gen_divisors(200))\n",
    "print(gen_divisors(30))"
   ]
  },
  {
   "cell_type": "markdown",
   "metadata": {},
   "source": [
    "__Python Program to Print Table of a Given Number__"
   ]
  },
  {
   "cell_type": "code",
   "execution_count": 13,
   "metadata": {},
   "outputs": [
    {
     "name": "stdout",
     "output_type": "stream",
     "text": [
      "10\n",
      "10 x 1 = 10\n",
      "10 x 2 = 20\n",
      "10 x 3 = 30\n",
      "10 x 4 = 40\n",
      "10 x 5 = 50\n",
      "10 x 6 = 60\n",
      "10 x 7 = 70\n",
      "10 x 8 = 80\n",
      "10 x 9 = 90\n",
      "10 x 10 = 100\n"
     ]
    }
   ],
   "source": [
    "n=int(input())\n",
    "for i in range(1,11):\n",
    "    print(n,\"x\",i,\"=\",n*i)"
   ]
  },
  {
   "cell_type": "markdown",
   "metadata": {},
   "source": [
    "__Python Program to Print Sum of Negative Numbers, Positive Even Numbers and Positive Odd numbers in a List__"
   ]
  },
  {
   "cell_type": "code",
   "execution_count": null,
   "metadata": {},
   "outputs": [],
   "source": [
    "li=list(map(int,input().split()))\n",
    "sum_n=0\n",
    "sum_pe=0\n",
    "sum_po=0\n",
    "for i in li:\n",
    "    if i>=0:\n",
    "        if i&1:\n",
    "            sum_po+=i\n",
    "        else:\n",
    "            "
   ]
  }
 ],
 "metadata": {
  "kernelspec": {
   "display_name": "Python 3",
   "language": "python",
   "name": "python3"
  },
  "language_info": {
   "codemirror_mode": {
    "name": "ipython",
    "version": 3
   },
   "file_extension": ".py",
   "mimetype": "text/x-python",
   "name": "python",
   "nbconvert_exporter": "python",
   "pygments_lexer": "ipython3",
   "version": "3.7.6"
  }
 },
 "nbformat": 4,
 "nbformat_minor": 4
}
