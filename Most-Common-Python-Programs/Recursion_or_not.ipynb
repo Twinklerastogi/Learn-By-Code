{
 "cells": [
  {
   "cell_type": "markdown",
   "metadata": {},
   "source": [
    "__Python Program to Determine Whether a Given Number is Even or Odd__"
   ]
  },
  {
   "cell_type": "code",
   "execution_count": 1,
   "metadata": {},
   "outputs": [
    {
     "data": {
      "text/plain": [
       "'Even'"
      ]
     },
     "execution_count": 1,
     "metadata": {},
     "output_type": "execute_result"
    }
   ],
   "source": [
    "#Recurrsive Approach\n",
    "def check_even_odd(n):\n",
    "    if n==1:\n",
    "        return \"Odd\"\n",
    "    if n==0:\n",
    "        return \"Even\"\n",
    "    return check_even_odd(n-2)\n",
    "check_even_odd(20)"
   ]
  },
  {
   "cell_type": "code",
   "execution_count": 2,
   "metadata": {},
   "outputs": [
    {
     "data": {
      "text/plain": [
       "'Even'"
      ]
     },
     "execution_count": 2,
     "metadata": {},
     "output_type": "execute_result"
    }
   ],
   "source": [
    "def check(n):\n",
    "    if (n < 2):\n",
    "        return \"Even\" if(n % 2 == 0) else \"Odd\"\n",
    "    return (check(n - 2))\n",
    "check(20)"
   ]
  },
  {
   "cell_type": "code",
   "execution_count": 3,
   "metadata": {},
   "outputs": [
    {
     "data": {
      "text/plain": [
       "'Even'"
      ]
     },
     "execution_count": 3,
     "metadata": {},
     "output_type": "execute_result"
    }
   ],
   "source": [
    "#Non Recurrsive Approach\n",
    "def check_EO(n):\n",
    "    return \"Odd\" if n&1 else \"Even\"\n",
    "check_EO(20)"
   ]
  },
  {
   "cell_type": "markdown",
   "metadata": {},
   "source": [
    "__Python Program to Determine How Many Times a Given Letter Occurs in a String__"
   ]
  },
  {
   "cell_type": "code",
   "execution_count": 4,
   "metadata": {},
   "outputs": [
    {
     "name": "stdout",
     "output_type": "stream",
     "text": [
      "5\n"
     ]
    }
   ],
   "source": [
    "#Recurrsive approach\n",
    "def check_l(s,l):\n",
    "    index=s.find(l)\n",
    "    if index == -1:\n",
    "        return 0\n",
    "    else:\n",
    "        return 1+check_l(s[index+1:],l)\n",
    "print(check_l(\"shubhahhhm\",\"h\"))"
   ]
  },
  {
   "cell_type": "code",
   "execution_count": 5,
   "metadata": {},
   "outputs": [
    {
     "data": {
      "text/plain": [
       "1"
      ]
     },
     "execution_count": 5,
     "metadata": {},
     "output_type": "execute_result"
    }
   ],
   "source": [
    "def check_letter(string,ch):\n",
    "      if not string:\n",
    "        return 0\n",
    "      elif string[0]==ch:\n",
    "        return 1+check_letter(string[1:],ch)\n",
    "      else:\n",
    "        return check_letter(string[1:],ch)\n",
    "check_letter(\"shubhahhhm\",\"m\")"
   ]
  },
  {
   "cell_type": "code",
   "execution_count": 6,
   "metadata": {},
   "outputs": [
    {
     "name": "stdout",
     "output_type": "stream",
     "text": [
      "1\n"
     ]
    }
   ],
   "source": [
    "#Non Recurrsive Approach\n",
    "st=\"shubhahhhm\"\n",
    "ch=\"u\"\n",
    "print(st.count(ch))"
   ]
  },
  {
   "cell_type": "markdown",
   "metadata": {},
   "source": [
    "__Python Program to Find the Fibonacci Series__"
   ]
  },
  {
   "cell_type": "code",
   "execution_count": 12,
   "metadata": {},
   "outputs": [
    {
     "name": "stdout",
     "output_type": "stream",
     "text": [
      "0 1 1 2 3 5 8 13 21 34 55 89 144 233 377 610 987 1597 2584 4181 6765 10946 17711 28657 46368 75025 121393 196418 317811 514229 Wall time: 444 ms\n"
     ]
    }
   ],
   "source": [
    "#Recurrsive Approach\n",
    "def fibonacci(n):\n",
    "    if(n <= 1):\n",
    "        return n\n",
    "    else:\n",
    "        return(fibonacci(n-1) + fibonacci(n-2))\n",
    "n=30\n",
    "for i in range(n):\n",
    "    print(fibonacci(i),end=\" \")"
   ]
  },
  {
   "cell_type": "code",
   "execution_count": 13,
   "metadata": {},
   "outputs": [
    {
     "name": "stdout",
     "output_type": "stream",
     "text": [
      "0 1 1 2 3 5 8 13 21 34 55 89 144 233 377 610 987 1597 2584 4181 6765 10946 17711 28657 46368 75025 121393 196418 317811 514229 Wall time: 992 µs\n"
     ]
    }
   ],
   "source": [
    "#Non Recurrsive Approach\n",
    "def get_nth_mem_2(n):\n",
    "    li=[0,1]\n",
    "    for i in range(2,n):\n",
    "        li.append(li[i-1]+li[i-2])\n",
    "    return li[n-1]\n",
    "for i in range(1,31):\n",
    "    print(get_nth_mem_2(i),end=\" \")"
   ]
  },
  {
   "cell_type": "code",
   "execution_count": 10,
   "metadata": {},
   "outputs": [
    {
     "name": "stdout",
     "output_type": "stream",
     "text": [
      "0 1 1 2 3 5 8 13 21 34 55 89 144 233 377 610 987 1597 2584 4181 6765 10946 17711 28657 46368 75025 121393 196418 317811 514229 Wall time: 970 µs\n"
     ]
    }
   ],
   "source": [
    "def get_nth_itr(n):\n",
    "    L=[0,1]\n",
    "    count=2\n",
    "    while count<n:\n",
    "        next_term =L[0]+L[1]\n",
    "        L[0]=L[1]\n",
    "        L[1]=next_term\n",
    "        count+=1\n",
    "    return L[1] if n>1 else L[0]\n",
    "for i in range(1,31):\n",
    "    print(get_nth_itr(i),end=\" \")"
   ]
  },
  {
   "cell_type": "code",
   "execution_count": null,
   "metadata": {},
   "outputs": [],
   "source": []
  },
  {
   "cell_type": "code",
   "execution_count": null,
   "metadata": {},
   "outputs": [],
   "source": []
  }
 ],
 "metadata": {
  "kernelspec": {
   "display_name": "Python 3",
   "language": "python",
   "name": "python3"
  },
  "language_info": {
   "codemirror_mode": {
    "name": "ipython",
    "version": 3
   },
   "file_extension": ".py",
   "mimetype": "text/x-python",
   "name": "python",
   "nbconvert_exporter": "python",
   "pygments_lexer": "ipython3",
   "version": "3.8.3"
  }
 },
 "nbformat": 4,
 "nbformat_minor": 4
}
