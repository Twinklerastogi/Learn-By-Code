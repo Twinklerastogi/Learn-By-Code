{
 "cells": [
  {
   "cell_type": "markdown",
   "metadata": {},
   "source": [
    "### Positive or Negative number"
   ]
  },
  {
   "cell_type": "code",
   "execution_count": 2,
   "metadata": {},
   "outputs": [
    {
     "data": {
      "text/plain": [
       "'-ve'"
      ]
     },
     "execution_count": 2,
     "metadata": {},
     "output_type": "execute_result"
    }
   ],
   "source": [
    "def pos_or_neg(x):\n",
    "    if x>0:\n",
    "        return \"+ve\"\n",
    "    elif x<0:\n",
    "        return \"-ve\"\n",
    "    else:\n",
    "        return \"0\"\n",
    "pos_or_neg(-12)"
   ]
  },
  {
   "cell_type": "markdown",
   "metadata": {},
   "source": [
    "### Even or Odd number"
   ]
  },
  {
   "cell_type": "code",
   "execution_count": 5,
   "metadata": {},
   "outputs": [
    {
     "data": {
      "text/plain": [
       "'odd'"
      ]
     },
     "execution_count": 5,
     "metadata": {},
     "output_type": "execute_result"
    }
   ],
   "source": [
    "def even_odd(n):\n",
    "    if n&1 == 0:\n",
    "        return \"even\"\n",
    "    else:\n",
    "        return \"odd\"\n",
    "even_odd(11)"
   ]
  },
  {
   "cell_type": "markdown",
   "metadata": {},
   "source": [
    "### Sum of First N Natural numbers"
   ]
  },
  {
   "cell_type": "code",
   "execution_count": 7,
   "metadata": {},
   "outputs": [
    {
     "data": {
      "text/plain": [
       "15"
      ]
     },
     "execution_count": 7,
     "metadata": {},
     "output_type": "execute_result"
    }
   ],
   "source": [
    "def sum_natural(n):\n",
    "    return n*(n+1)//2\n",
    "sum_natural(5)"
   ]
  },
  {
   "cell_type": "markdown",
   "metadata": {},
   "source": [
    "### Sum of numbers in a given range"
   ]
  },
  {
   "cell_type": "code",
   "execution_count": 8,
   "metadata": {},
   "outputs": [
    {
     "data": {
      "text/plain": [
       "15"
      ]
     },
     "execution_count": 8,
     "metadata": {},
     "output_type": "execute_result"
    }
   ],
   "source": [
    "def sum_range(low,high):\n",
    "    S=0\n",
    "    for i in range(low,high+1):\n",
    "        S+=i\n",
    "    return S\n",
    "sum_range(1,5)"
   ]
  },
  {
   "cell_type": "markdown",
   "metadata": {},
   "source": [
    "### Greatest of two numbers"
   ]
  },
  {
   "cell_type": "code",
   "execution_count": 10,
   "metadata": {},
   "outputs": [
    {
     "data": {
      "text/plain": [
       "111"
      ]
     },
     "execution_count": 10,
     "metadata": {},
     "output_type": "execute_result"
    }
   ],
   "source": [
    "def max_2(x,y):\n",
    "    return x if x>y else y\n",
    "max_2(111,23)"
   ]
  },
  {
   "cell_type": "markdown",
   "metadata": {},
   "source": [
    "### Greatest of the Three numbers"
   ]
  },
  {
   "cell_type": "code",
   "execution_count": 14,
   "metadata": {},
   "outputs": [
    {
     "data": {
      "text/plain": [
       "100"
      ]
     },
     "execution_count": 14,
     "metadata": {},
     "output_type": "execute_result"
    }
   ],
   "source": [
    "def max_3(x,y,z):\n",
    "    maximum=x\n",
    "    if y>maximum:\n",
    "        maximum=y\n",
    "    if z>maximum:\n",
    "        maximum=z\n",
    "    return maximum\n",
    "max_3(100,23,40)"
   ]
  },
  {
   "cell_type": "markdown",
   "metadata": {},
   "source": [
    "### Leap year or not"
   ]
  },
  {
   "cell_type": "code",
   "execution_count": 18,
   "metadata": {},
   "outputs": [
    {
     "data": {
      "text/plain": [
       "'non leap'"
      ]
     },
     "execution_count": 18,
     "metadata": {},
     "output_type": "execute_result"
    }
   ],
   "source": [
    "def Leap_or_not(y):\n",
    "    if y%400==0:\n",
    "        return \"leap\"\n",
    "    if y%100==0:\n",
    "        return \"non leap\"\n",
    "    elif y%4==0:\n",
    "        return \"leap\"\n",
    "    else:\n",
    "        return \"non-leap\"\n",
    "Leap_or_not(1900)"
   ]
  },
  {
   "cell_type": "markdown",
   "metadata": {},
   "source": [
    "### Prime number"
   ]
  },
  {
   "cell_type": "code",
   "execution_count": 20,
   "metadata": {},
   "outputs": [
    {
     "data": {
      "text/plain": [
       "0"
      ]
     },
     "execution_count": 20,
     "metadata": {},
     "output_type": "execute_result"
    }
   ],
   "source": [
    "def prime(x):\n",
    "    if x==2 or x==3:\n",
    "        return 1\n",
    "    for i in range(2,int(x**0.5)+1):\n",
    "        if x%i==0:\n",
    "            return 0\n",
    "    return 1\n",
    "prime(16)\n",
    "        "
   ]
  },
  {
   "cell_type": "markdown",
   "metadata": {},
   "source": [
    "### Prime number within a given range"
   ]
  },
  {
   "cell_type": "code",
   "execution_count": 30,
   "metadata": {},
   "outputs": [
    {
     "name": "stdout",
     "output_type": "stream",
     "text": [
      "[11, 13, 17, 19, 23, 29, 31, 37, 41, 43, 47, 53, 59, 61, 67, 71, 73, 79, 83, 89, 97]\n"
     ]
    }
   ],
   "source": [
    "def prime_range(start,end):\n",
    "    L=[]\n",
    "    for i in range(start,end+1):\n",
    "        if prime(i)==1:\n",
    "            L.append(i)\n",
    "    print( L)\n",
    "prime_range(10,100)"
   ]
  },
  {
   "cell_type": "code",
   "execution_count": 29,
   "metadata": {},
   "outputs": [
    {
     "name": "stdout",
     "output_type": "stream",
     "text": [
      "{67, 71, 73, 11, 13, 79, 17, 19, 83, 23, 89, 29, 31, 97, 37, 41, 43, 47, 53, 59, 61}\n"
     ]
    }
   ],
   "source": [
    "def prime_range_op(start,end):\n",
    "    sieve_start=set(range(2,start+1))\n",
    "    start_list=set()\n",
    "    while sieve_start:\n",
    "        prime=min(sieve_start)\n",
    "        start_list.add(prime)\n",
    "        sieve_start-=set(range(prime,start+1,prime))\n",
    "        \n",
    "    sieve_end=set(range(2,end+1))\n",
    "    end_list=set()\n",
    "    while sieve_end:\n",
    "        prime=min(sieve_end)\n",
    "        end_list.add(prime)\n",
    "        sieve_end-=set(range(prime,end+1,prime))\n",
    "    print (end_list-start_list)\n",
    "prime_range_op(10,100)\n",
    "    \n",
    "    "
   ]
  },
  {
   "cell_type": "markdown",
   "metadata": {},
   "source": [
    "### Sum of digits of a number"
   ]
  },
  {
   "cell_type": "code",
   "execution_count": 32,
   "metadata": {},
   "outputs": [
    {
     "data": {
      "text/plain": [
       "2"
      ]
     },
     "execution_count": 32,
     "metadata": {},
     "output_type": "execute_result"
    }
   ],
   "source": [
    "def sum_digit(n):\n",
    "    s=0\n",
    "    while n:\n",
    "        d=n%10\n",
    "        n=n//10\n",
    "        s=s+d\n",
    "    return s\n",
    "sum_digit(1001)"
   ]
  },
  {
   "cell_type": "markdown",
   "metadata": {},
   "source": [
    "### Fibonacci Series upto nth term"
   ]
  },
  {
   "cell_type": "code",
   "execution_count": 37,
   "metadata": {},
   "outputs": [
    {
     "name": "stdout",
     "output_type": "stream",
     "text": [
      "[0, 1, 1, 2, 3, 5, 8, 13, 21, 34]\n"
     ]
    }
   ],
   "source": [
    "def fibo(n):\n",
    "    L=[0,1]\n",
    "    a=0\n",
    "    b=1\n",
    "    for i in range(0,n-2):\n",
    "        c=a+b\n",
    "        L.append(c)\n",
    "        a=b\n",
    "        b=c\n",
    "    print (L)\n",
    "fibo(10)\n",
    "        "
   ]
  },
  {
   "cell_type": "markdown",
   "metadata": {},
   "source": [
    "### Power of a number"
   ]
  },
  {
   "cell_type": "code",
   "execution_count": 41,
   "metadata": {},
   "outputs": [
    {
     "data": {
      "text/plain": [
       "3.0"
      ]
     },
     "execution_count": 41,
     "metadata": {},
     "output_type": "execute_result"
    }
   ],
   "source": [
    "def power(x,n):\n",
    "    if n>=1:\n",
    "        p=1\n",
    "        for i in range(n):\n",
    "            p=p*x\n",
    "        return p\n",
    "    else:\n",
    "        return x**n\n",
    "power(9,.5)\n",
    "        \n",
    "            \n",
    "    "
   ]
  },
  {
   "cell_type": "markdown",
   "metadata": {},
   "source": [
    "### Automorphic number"
   ]
  },
  {
   "cell_type": "code",
   "execution_count": 49,
   "metadata": {},
   "outputs": [
    {
     "data": {
      "text/plain": [
       "'Y'"
      ]
     },
     "execution_count": 49,
     "metadata": {},
     "output_type": "execute_result"
    }
   ],
   "source": [
    "def Autumorphic(n):\n",
    "    n2=n**2\n",
    "    copy_n=n\n",
    "    count=0\n",
    "    while(n):\n",
    "        count+=1\n",
    "        n=n//10\n",
    "    check=0\n",
    "    for i in range(count):\n",
    "        d=n2%10\n",
    "        check+=d*(10**i)\n",
    "        n2=n2//10\n",
    "    return \"Y\" if check==copy_n else \"N\"\n",
    "Autumorphic(25)\n",
    "        "
   ]
  },
  {
   "cell_type": "code",
   "execution_count": 51,
   "metadata": {},
   "outputs": [
    {
     "name": "stdout",
     "output_type": "stream",
     "text": [
      "2\n"
     ]
    }
   ],
   "source": [
    "arr=[7,8,5,2,3]\n",
    "S=arr[0]\n",
    "for i in range(1,len(arr)):\n",
    "    if S>arr[i]:\n",
    "        S=arr[i]\n",
    "print(S)"
   ]
  },
  {
   "cell_type": "code",
   "execution_count": null,
   "metadata": {},
   "outputs": [],
   "source": []
  }
 ],
 "metadata": {
  "kernelspec": {
   "display_name": "Python 3",
   "language": "python",
   "name": "python3"
  },
  "language_info": {
   "codemirror_mode": {
    "name": "ipython",
    "version": 3
   },
   "file_extension": ".py",
   "mimetype": "text/x-python",
   "name": "python",
   "nbconvert_exporter": "python",
   "pygments_lexer": "ipython3",
   "version": "3.8.3"
  }
 },
 "nbformat": 4,
 "nbformat_minor": 4
}
